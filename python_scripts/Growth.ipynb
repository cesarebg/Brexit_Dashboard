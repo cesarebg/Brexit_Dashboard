{
 "cells": [
  {
   "cell_type": "code",
   "execution_count": 1,
   "metadata": {
    "collapsed": true
   },
   "outputs": [],
   "source": [
    "import json\n",
    "import requests\n",
    "import pyjstat\n",
    "import pandas as pd"
   ]
  },
  {
   "cell_type": "code",
   "execution_count": 3,
   "metadata": {},
   "outputs": [
    {
     "name": "stdout",
     "output_type": "stream",
     "text": [
      "[{'date': '2015 Sep', 'value': '0.4', 'services': '0.4', 'production': '0.0', 'construction': '-0.4', 'manufacturing': '-0.4'}, {'date': '2015 Dec', 'value': '0.7', 'services': '0.7', 'production': '-0.4', 'construction': '1.2', 'manufacturing': '0.1'}, {'date': '2016 Mar', 'value': '0.2', 'services': '0.8', 'production': '-0.1', 'construction': '0.5', 'manufacturing': '0.0'}, {'date': '2016 Jun', 'value': '0.5', 'services': '0.4', 'production': '2.2', 'construction': '2.1', 'manufacturing': '1.6'}, {'date': '2016 Sep', 'value': '0.4', 'services': '0.7', 'production': '-0.5', 'construction': '0.5', 'manufacturing': '-0.7'}, {'date': '2016 Dec', 'value': '0.6', 'services': '0.6', 'production': '0.7', 'construction': '2.2', 'manufacturing': '1.3'}, {'date': '2017 Mar', 'value': '0.3', 'services': '0.1', 'production': '0.3', 'construction': '1.9', 'manufacturing': '0.6'}, {'date': '2017 Jun', 'value': '0.3', 'services': '0.4', 'production': '-0.3', 'construction': '-0.5', 'manufacturing': '-0.3'}, {'date': '2017 Sep', 'value': '0.4', 'services': '0.4', 'production': '1.0', 'construction': '-0.7', 'manufacturing': '1.0'}, {'text': 'The UK economy reported a quarterly growth of 0.4% in 2017 Sep. Services grew 0.4% in 2017 Q3, when compared with the previous quarter. Production expanded 1.0% in the same period. Construction decreased -0.7%. Manufacturing increased 1.0%. '}]\n"
     ]
    }
   ],
   "source": [
    "def growth():\n",
    "    parsedData = []\n",
    "    growth_data = requests.get('https://www.ons.gov.uk/economy/grossdomesticproductgdp/timeseries/ihyq/pgdp/data')\n",
    "    growth_json = json.loads(growth_data.content)\n",
    "    services_data = requests.get('https://www.ons.gov.uk/economy/grossdomesticproductgdp/timeseries/l3e2/pgdp/data')\n",
    "    services_json = json.loads(services_data.content)\n",
    "    production_data = requests.get('https://www.ons.gov.uk/economy/grossdomesticproductgdp/timeseries/L3BG/pgdp/data')\n",
    "    production_json = json.loads(production_data.content)\n",
    "    construction_data = requests.get('https://www.ons.gov.uk/economy/grossdomesticproductgdp/timeseries/l3dw/pgdp/data')\n",
    "    construction_json = json.loads(construction_data.content)\n",
    "    manufacturing_data = requests.get('https://www.ons.gov.uk/economy/grossdomesticproductgdp/timeseries/l3bn/pgdp/data')\n",
    "    manufacturing_json = json.loads(manufacturing_data.content)\n",
    "    growthData = {}\n",
    "    textData = {}\n",
    "    data_input = 'quarters'\n",
    "\n",
    "    for data_s in range(len(services_json[data_input])):\n",
    "            growth_json['quarters'][data_s+140]['services'] = services_json['quarters'][data_s]['value']\n",
    "\n",
    "    for data_p in range(len(production_json[data_input])):\n",
    "            growth_json['quarters'][data_p+140]['production'] = production_json['quarters'][data_p]['value']\n",
    "\n",
    "    for data_c in range(len(construction_json[data_input])):\n",
    "            growth_json['quarters'][data_c+140]['construction'] = construction_json['quarters'][data_c]['value']\n",
    "\n",
    "    for data_m in range(len(manufacturing_json[data_input])):\n",
    "            growth_json['quarters'][data_m+140]['manufacturing'] = manufacturing_json['quarters'][data_m]['value']\n",
    "\n",
    "    for data in growth_json[data_input][241:]:\n",
    "        if data['date'][5:7] == 'Q1':\n",
    "            data['date'] = (data['date'][0:4] + ' ' + 'Mar')\n",
    "        elif data['date'][5:7] == 'Q2':\n",
    "            data['date'] = (data['date'][0:4] + ' ' + 'Jun')\n",
    "        elif data['date'][5:7] == 'Q3':\n",
    "            data['date'] = (data['date'][0:4] + ' ' + 'Sep')\n",
    "        elif data['date'][5:7] == 'Q4':\n",
    "            data['date'] = (data['date'][0:4] + ' ' + 'Dec')\n",
    "        growthData['date'] = data['date']\n",
    "        growthData['value'] = data['value']\n",
    "        growthData['services'] = data['services']\n",
    "        growthData['production'] = data['production']\n",
    "        growthData['construction'] = data['construction']\n",
    "        growthData['manufacturing'] = data['manufacturing']\n",
    "        parsedData.append(growthData.copy())\n",
    "\n",
    "    last_value = pd.to_numeric(growth_json['quarters'][-1]['value'])\n",
    "    last_services = pd.to_numeric(services_json['quarters'][-1]['value'])\n",
    "    last_production = pd.to_numeric(production_json['quarters'][-1]['value'])\n",
    "    last_construction = pd.to_numeric(construction_json['quarters'][-1]['value'])\n",
    "    last_manufacturing = pd.to_numeric(manufacturing_json['quarters'][-1]['value'])\n",
    "\n",
    "\n",
    "    if last_value > 0:\n",
    "        trade_text = 'The UK economy reported a quarterly growth of ' + str(last_value) + '% in ' + str(growth_json['quarters'][-1]['date']) + \". \"\n",
    "    else:\n",
    "        trade_text = 'The UK economy reported a quarterly slowdown of ' + str(last_value) + '% in ' + str(growth_json['quarters'][-1]['date']) + \". \"\n",
    "\n",
    "    # services\n",
    "\n",
    "    if last_services > 0:\n",
    "        services_text_1 = \"Services grew \" + str(last_services) + \"% in \" + str(services_json['quarters'][-1]['date']) + \", when compared with the previous quarter. \"\n",
    "    else:\n",
    "        services_text_1 = \"Services grew \" + str(last_services) + \"% in \" + str(services_json['quarters'][-1]['date']) + \", when compared with the previous quarter. \"\n",
    "    services_text_3 = services_text_1\n",
    "\n",
    "    # production\n",
    "\n",
    "    if last_production > 0:\n",
    "        production_text_1 = \"Production expanded \" + str(last_production) + \"% in the same period. \"\n",
    "    else:\n",
    "        production_text_1 = \"Production contracted \" + str(last_production) + \"% in the same period. \"\n",
    "    production_text_3 = production_text_1\n",
    "\n",
    "    # construction\n",
    "\n",
    "    if last_construction > 0:\n",
    "        construction_text_1 = \"Construction spiked \" + str(last_construction) + \"%. \"\n",
    "    else:\n",
    "        construction_text_1 = \"Construction decreased \" + str(last_construction) + \"%. \"\n",
    "    construction_text_3 = construction_text_1\n",
    "\n",
    "    if last_manufacturing > 0:\n",
    "        manufacturing_text_1 = \"Manufacturing increased \" + str(last_manufacturing) + \"%. \"\n",
    "    else:\n",
    "        manufacturing_text_1 = \"Manufacturing decreased \" + str(last_manufacturing) + \"%. \"\n",
    "    manufacturing_text_3 = manufacturing_text_1\n",
    "\n",
    "\n",
    "    trade_text_final = trade_text + services_text_3 + production_text_3 + construction_text_3 + manufacturing_text_3\n",
    "    textData['text'] = trade_text_final\n",
    "    parsedData.append(textData.copy())\n",
    "    return print(parsedData)\n",
    "\n",
    "growth()"
   ]
  },
  {
   "cell_type": "code",
   "execution_count": null,
   "metadata": {
    "collapsed": true
   },
   "outputs": [],
   "source": []
  }
 ],
 "metadata": {
  "kernelspec": {
   "display_name": "Python 3",
   "language": "python",
   "name": "python3"
  },
  "language_info": {
   "codemirror_mode": {
    "name": "ipython",
    "version": 3
   },
   "file_extension": ".py",
   "mimetype": "text/x-python",
   "name": "python",
   "nbconvert_exporter": "python",
   "pygments_lexer": "ipython3",
   "version": "3.6.2"
  }
 },
 "nbformat": 4,
 "nbformat_minor": 2
}
