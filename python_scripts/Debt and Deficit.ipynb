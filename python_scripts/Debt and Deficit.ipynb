{
 "cells": [
  {
   "cell_type": "code",
   "execution_count": 1,
   "metadata": {
    "collapsed": true
   },
   "outputs": [],
   "source": [
    "import requests\n",
    "import json\n",
    "import pandas as pd\n",
    "from datetime import datetime"
   ]
  },
  {
   "cell_type": "code",
   "execution_count": 2,
   "metadata": {},
   "outputs": [
    {
     "data": {
      "text/plain": [
       "[{'date': '2008 Mar', 'value': '35.4'},\n",
       " {'date': '2008 Jun', 'value': '37.5'},\n",
       " {'date': '2008 Sep', 'value': '42.7'},\n",
       " {'date': '2008 Dec', 'value': '47.6'},\n",
       " {'date': '2009 Mar', 'value': '50.1'},\n",
       " {'date': '2009 Jun', 'value': '54.3'},\n",
       " {'date': '2009 Sep', 'value': '55.8'},\n",
       " {'date': '2009 Dec', 'value': '60.5'},\n",
       " {'date': '2010 Mar', 'value': '64.6'},\n",
       " {'date': '2010 Jun', 'value': '66.7'},\n",
       " {'date': '2010 Sep', 'value': '68.3'},\n",
       " {'date': '2010 Dec', 'value': '70.7'},\n",
       " {'date': '2011 Mar', 'value': '71.4'},\n",
       " {'date': '2011 Jun', 'value': '72.9'},\n",
       " {'date': '2011 Sep', 'value': '73.8'},\n",
       " {'date': '2011 Dec', 'value': '75.3'},\n",
       " {'date': '2012 Mar', 'value': '75.1'},\n",
       " {'date': '2012 Jun', 'value': '76.2'},\n",
       " {'date': '2012 Sep', 'value': '76.7'},\n",
       " {'date': '2012 Dec', 'value': '78.6'},\n",
       " {'date': '2013 Mar', 'value': '78.6'},\n",
       " {'date': '2013 Jun', 'value': '79.7'},\n",
       " {'date': '2013 Sep', 'value': '79.8'},\n",
       " {'date': '2013 Dec', 'value': '80.8'},\n",
       " {'date': '2014 Mar', 'value': '80.5'},\n",
       " {'date': '2014 Jun', 'value': '81.7'},\n",
       " {'date': '2014 Sep', 'value': '82.1'},\n",
       " {'date': '2014 Dec', 'value': '83.5'},\n",
       " {'date': '2015 Mar', 'value': '82.9'},\n",
       " {'date': '2015 Jun', 'value': '83.7'},\n",
       " {'date': '2015 Sep', 'value': '83.6'},\n",
       " {'date': '2015 Dec', 'value': '83.8'},\n",
       " {'date': '2016 Mar', 'value': '82.6'},\n",
       " {'date': '2016 Jun', 'value': '82.9'},\n",
       " {'date': '2016 Sep', 'value': '82.8'},\n",
       " {'date': '2016 Dec', 'value': '84.9'},\n",
       " {'date': '2017 Mar', 'value': '85.6'},\n",
       " {'date': '2017 Jun', 'value': '86.6'},\n",
       " {'date': '2017 Sep', 'value': '87.3'},\n",
       " {'text': 'Government debt has increased after the financial crisis of 2008, and the Brexit vote of 2016. UK debt increased 51.9 percentage points since the financial crisis of 2008, from 35.4% of GDP in 2008 Mar to 87.3% in 2017 Sep. After the Brexit vote, the UK debt has increased 4.5 pp from 82.8% of GDP in 2016 Sep to 87.3% in 2017 Sep. '}]"
      ]
     },
     "execution_count": 2,
     "metadata": {},
     "output_type": "execute_result"
    }
   ],
   "source": [
    "# Final function with automatic text\n",
    "\n",
    "def debt():\n",
    "    parsedData = []\n",
    "    debt_datasets = {}\n",
    "    debt_data = requests.get('https://www.ons.gov.uk/economy/governmentpublicsectorandtaxes/publicsectorfinance/timeseries/hf6x/pusf/data')\n",
    "    debt_json = json.loads(debt_data.content)\n",
    "    debtData = {}\n",
    "    textData = {}\n",
    "    data_input = 'quarters'\n",
    "    year_input_int = 132\n",
    "    for data in debt_json[data_input][year_input_int:]:\n",
    "        if data['date'][5:7] == 'Q1':\n",
    "            data['date'] = (data['date'][0:4] + ' ' + 'Mar')\n",
    "        elif data['date'][5:7] == 'Q2':\n",
    "            data['date'] = (data['date'][0:4] + ' ' + 'Jun')\n",
    "        elif data['date'][5:7] == 'Q3':\n",
    "            data['date'] = (data['date'][0:4] + ' ' + 'Sep')\n",
    "        elif data['date'][5:7] == 'Q4':\n",
    "            data['date'] = (data['date'][0:4] + ' ' + 'Dec')\n",
    "        debtData['date'] = data['date']\n",
    "        debtData['value'] = data['value']\n",
    "        parsedData.append(debtData.copy())\n",
    "    df = pd.DataFrame(data=parsedData)\n",
    "    df['date'] = pd.to_datetime(df['date'])\n",
    "    df['value'] = pd.to_numeric(df['value'])\n",
    "    debt_increase_2008 = df.iloc[-1,1] - df.iloc[0,1]\n",
    "    debt_increase_2016 = df.iloc[-1,1] - df.iloc[34,1]\n",
    "    if (debt_increase_2008 > 0) and (debt_increase_2016 > 0):\n",
    "        debt_text_compare = 'Government debt has increased after the financial crisis of 2008, and the Brexit vote of 2016. '\n",
    "    else:\n",
    "        if (debt_increase_2008) < 0 and (debt_increase_2016 < 0):\n",
    "            debt_text_compare = 'Government debt has decreased after the financial crisis of 2008, and the Brexit vote of 2016. '\n",
    "        elif (debt_increase_2008) < 0 and (debt_increase_2016 > 0):\n",
    "            debt_text_compare = 'Government debt has decreased since the financial crisis, but increased after the Brexit vote. '\n",
    "        elif (debt_increase_2008) > 0 and (debt_increase_2016 < 0):\n",
    "            debt_text_compare = 'Government debt has increased decreased since the financial crisis, but decreased after the Brexit vote. '\n",
    "    if debt_increase_2008 > 0:\n",
    "        debt_text_2008 = 'UK debt increased ' + str(debt_increase_2008) + ' percentage points since the financial crisis of 2008, from ' + str(debt_json[data_input][132]['value']) + '% of GDP in ' +  str(debt_json[data_input][132]['date']) + ' to ' + str(debt_json[data_input][-1]['value']) + '% in ' + str(debt_json[data_input][-1]['date']) + '. '\n",
    "    else:\n",
    "        debt_text_2008 = 'UK debt decreased ' + str(debt_increase_2008) + ' percentage points since the financial crisis of 2008, from ' + str(debt_json[data_input][132]['value']) + '% of GDP in ' +  str(debt_json[data_input][132]['date']) + ' to ' + str(debt_json[data_input][-1]['value']) + '% in ' + str(debt_json[data_input][-1]['date']) + '. '\n",
    "    if debt_increase_2016 > 0:\n",
    "        debt_text_2016 = 'After the Brexit vote, the UK debt has increased ' + str(debt_increase_2016) + ' pp from ' + str(debt_json[data_input][166]['value']) + '% of GDP in ' +  str(debt_json[data_input][166]['date']) + ' to ' + str(debt_json[data_input][-1]['value']) + '% in ' + str(debt_json[data_input][-1]['date']) + '. '\n",
    "    else:\n",
    "        debt_text_2016 = 'After the Brexit vote, the UK debt has decreased ' + str(debt_increase_2016) + ' pp from ' + str(debt_json[data_input][166]['value']) + '% of GDP in ' +  str(debt_json[data_input][166]['date']) + ' to ' + str(debt_json[data_input][-1]['value']) + '% in ' + str(debt_json[data_input][-1]['date']) + '. '\n",
    "    debt_text_total = str(debt_text_compare) + str(debt_text_2008) + str(debt_text_2016)\n",
    "    textData['text'] = debt_text_total\n",
    "    parsedData.append(textData.copy())\n",
    "    return parsedData\n",
    "\n",
    "debt()"
   ]
  },
  {
   "cell_type": "code",
   "execution_count": 3,
   "metadata": {},
   "outputs": [
    {
     "data": {
      "text/plain": [
       "[{'date': '2008 Mar', 'value': '2.8'},\n",
       " {'date': '2009 Mar', 'value': '7.3'},\n",
       " {'date': '2010 Mar', 'value': '9.9'},\n",
       " {'date': '2011 Mar', 'value': '8.6'},\n",
       " {'date': '2012 Mar', 'value': '7.1'},\n",
       " {'date': '2013 Mar', 'value': '7.1'},\n",
       " {'date': '2014 Mar', 'value': '5.5'},\n",
       " {'date': '2015 Mar', 'value': '5.0'},\n",
       " {'date': '2016 Mar', 'value': '3.8'},\n",
       " {'date': '2017 Mar', 'value': '2.3'}]"
      ]
     },
     "execution_count": 3,
     "metadata": {},
     "output_type": "execute_result"
    }
   ],
   "source": [
    "# Initial function that retrieves and process data from ONS\n",
    "# Public Deficit\n",
    "\n",
    "def deficit_data():\n",
    "    parsedData = []\n",
    "    deficit_datasets = {}\n",
    "    deficit_data = requests.get('https://www.ons.gov.uk/economy/governmentpublicsectorandtaxes/publicsectorfinance/timeseries/j5ij/pusf/data')\n",
    "    deficit_json = json.loads(deficit_data.content)\n",
    "    deficitData = {}\n",
    "    data_input = 'quarters'\n",
    "    year_input_int = 206\n",
    "    for data in deficit_json[data_input][year_input_int:]:\n",
    "        if data['date'][5:7] == 'Q1':\n",
    "            data['date'] = (data['date'][0:4] + ' ' + 'Mar')\n",
    "            deficitData['date'] = data['date']\n",
    "            deficitData['value'] = data['value']\n",
    "            parsedData.append(deficitData.copy())\n",
    "    return parsedData\n",
    "\n",
    "deficit_data()"
   ]
  },
  {
   "cell_type": "code",
   "execution_count": null,
   "metadata": {
    "collapsed": true
   },
   "outputs": [],
   "source": []
  }
 ],
 "metadata": {
  "kernelspec": {
   "display_name": "Python 3",
   "language": "python",
   "name": "python3"
  },
  "language_info": {
   "codemirror_mode": {
    "name": "ipython",
    "version": 3
   },
   "file_extension": ".py",
   "mimetype": "text/x-python",
   "name": "python",
   "nbconvert_exporter": "python",
   "pygments_lexer": "ipython3",
   "version": "3.6.2"
  }
 },
 "nbformat": 4,
 "nbformat_minor": 2
}
