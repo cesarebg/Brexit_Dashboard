{
 "cells": [
  {
   "cell_type": "code",
   "execution_count": 1,
   "metadata": {
    "collapsed": true
   },
   "outputs": [],
   "source": [
    "import requests\n",
    "import json\n",
    "import pandas as pd"
   ]
  },
  {
   "cell_type": "code",
   "execution_count": 2,
   "metadata": {},
   "outputs": [
    {
     "data": {
      "text/plain": [
       "[{'balance': '-25171',\n",
       "  'date': '2011',\n",
       "  'exports': '498862',\n",
       "  'imports': '524033'},\n",
       " {'balance': '-33364',\n",
       "  'date': '2012',\n",
       "  'exports': '501055',\n",
       "  'imports': '534419'},\n",
       " {'balance': '-35367',\n",
       "  'date': '2013',\n",
       "  'exports': '519913',\n",
       "  'imports': '555280'},\n",
       " {'balance': '-36831',\n",
       "  'date': '2014',\n",
       "  'exports': '518925',\n",
       "  'imports': '555756'},\n",
       " {'balance': '-32370',\n",
       "  'date': '2015',\n",
       "  'exports': '517161',\n",
       "  'imports': '549531'},\n",
       " {'balance': '-43013',\n",
       "  'date': '2016',\n",
       "  'exports': '547473',\n",
       "  'imports': '590486'},\n",
       " {'text': 'The trade deficit was £-43013 million in 2016, an increase of 70.9% since 2011. Imports reached £590486 million in 2016. That is an increase of 12.7% since 2011. Exports reached £547473 million in 2016. That is an increase of 9.7% since 2011. '}]"
      ]
     },
     "execution_count": 2,
     "metadata": {},
     "output_type": "execute_result"
    }
   ],
   "source": [
    "# Initial function that retrieves and process data from ONS\n",
    "# Trade balance, imports and exports\n",
    "# Final function with automatic text\n",
    "\n",
    "def trade():\n",
    "    parsedData = []\n",
    "    balance_data = requests.get('https://www.ons.gov.uk/economy/nationalaccounts/balanceofpayments/timeseries/ikbj/mret/data')\n",
    "    balance_json = json.loads(balance_data.content)\n",
    "    imports_data = requests.get('https://www.ons.gov.uk/economy/nationalaccounts/balanceofpayments/timeseries/ikbi/mret/data')\n",
    "    imports_json = json.loads(imports_data.content)\n",
    "    exports_data = requests.get('https://www.ons.gov.uk/economy/nationalaccounts/balanceofpayments/timeseries/ikbh/mret/data')\n",
    "    exports_json = json.loads(exports_data.content)\n",
    "    tradeData = {}\n",
    "    textData = {}\n",
    "    data_input = 'years'\n",
    "    input_int = 63\n",
    "\n",
    "    for data_s in range(len(imports_json[data_input])):\n",
    "            balance_json[data_input][data_s]['balance'] = balance_json[data_input][data_s]['value']\n",
    "            balance_json[data_input][data_s]['alt-date'] = balance_json[data_input][data_s]['date']\n",
    "\n",
    "    for data_s in range(len(imports_json[data_input])):\n",
    "            balance_json[data_input][data_s]['imports'] = imports_json[data_input][data_s]['value']\n",
    "            balance_json[data_input][data_s]['alt-date-s'] = imports_json[data_input][data_s]['date']\n",
    "\n",
    "    for data_p in range(len(exports_json[data_input])):\n",
    "            balance_json[data_input][data_p]['exports'] = exports_json[data_input][data_p]['value']\n",
    "            balance_json[data_input][data_p]['alt-date-p'] = exports_json[data_input][data_p]['date']\n",
    "\n",
    "    for data in balance_json[data_input][input_int:]:\n",
    "            tradeData['date'] = data['date']\n",
    "            tradeData['balance'] = data['balance']\n",
    "            tradeData['imports'] = data['imports']\n",
    "            tradeData['exports'] = data['exports']\n",
    "            parsedData.append(tradeData.copy())\n",
    "    last_balance = pd.to_numeric(balance_json['years'][-1]['value'])\n",
    "    last_imports = pd.to_numeric(imports_json['years'][-1]['value'])\n",
    "    penu_imports = pd.to_numeric(imports_json['years'][-2]['value'])\n",
    "    first_imports = pd.to_numeric(imports_json['years'][63]['value'])\n",
    "    last_exports = pd.to_numeric(exports_json['years'][-1]['value'])\n",
    "    penu_exports = pd.to_numeric(exports_json['years'][-2]['value'])\n",
    "    first_exports = pd.to_numeric(exports_json['years'][63]['value'])\n",
    "    df = pd.DataFrame(data=parsedData)\n",
    "    df['date'] = pd.to_datetime(df['date'])\n",
    "    df['balance'] = pd.to_numeric(df['balance'])\n",
    "    df['imports'] = pd.to_numeric(df['imports'])\n",
    "    df['exports'] = pd.to_numeric(df['exports'])\n",
    "    balance_change = round(100*(df['balance'].iloc[-1]/df['balance'].iloc[0]-1), 1)\n",
    "    imports_change = round(100*(df['imports'].iloc[-1]/df['imports'].iloc[0]-1), 1)\n",
    "    exports_change = round(100*(df['exports'].iloc[-1]/df['exports'].iloc[0]-1), 1)\n",
    "\n",
    "    if (last_balance < 0):\n",
    "        trade_text = 'The trade deficit was £' + str(balance_json['years'][-1]['value']) + ' million in ' + str(balance_json['years'][-1]['date']) + \", an increase of \" + str(balance_change) + '% since ' + str(balance_json['years'][63]['date']) + \". \"\n",
    "    else:\n",
    "        trade_text = 'The trade balance is positive with £' + str(balance_json['years'][-1]['value']) + ' million in ' + str(balance_json['years'][-1]['date']) + \", an increase of \" + str(balance_change) + '% since ' + str(balance_json['years'][63]['date']) + \". \"\n",
    "\n",
    "    if last_imports > penu_imports:\n",
    "        imports_text_1 = \"Imports reached £\" + str(last_imports) + \" million in \" + str(imports_json['years'][-1]['date']) + \". \"\n",
    "    else:\n",
    "        imports_text_1 = \"Imports decreased to £\" + str(last_imports) + \" million in \" + str(imports_json['years'][-1]['date']) + \". \"\n",
    "    if last_imports > first_imports:\n",
    "        imports_text_2 = \"That is an increase of \" + str(imports_change) + \"% since \" + str(imports_json['years'][63]['date']) + \". \"\n",
    "    imports_text_3 = imports_text_1 + imports_text_2\n",
    "\n",
    "    if last_exports > penu_exports:\n",
    "        exports_text_1 = \"Exports reached £\" + str(last_exports) + \" million in \" + str(exports_json['years'][-1]['date']) + \". \"\n",
    "    else:\n",
    "        imports_text_1 = \"Imports decreased to £\" + str(last_exports) + \" million in \" + str(exports_json['years'][-1]['date']) + \". \"\n",
    "    if last_exports > first_exports:\n",
    "        exports_text_2 = \"That is an increase of \" + str(exports_change) + \"% since \" + str(exports_json['years'][63]['date']) + \". \"\n",
    "    exports_text_3 = exports_text_1 + exports_text_2\n",
    "\n",
    "    trade_text_final = trade_text + imports_text_3 + exports_text_3\n",
    "    textData['text'] = trade_text_final\n",
    "    parsedData.append(textData.copy())\n",
    "    return parsedData\n",
    "\n",
    "trade()"
   ]
  },
  {
   "cell_type": "code",
   "execution_count": 3,
   "metadata": {},
   "outputs": [
    {
     "data": {
      "text/plain": [
       "[{'date': '2008', 'value': '49349'},\n",
       " {'date': '2009', 'value': '52961'},\n",
       " {'date': '2010', 'value': '56012'},\n",
       " {'date': '2011', 'value': '69608'},\n",
       " {'date': '2012', 'value': '75323'},\n",
       " {'date': '2013', 'value': '84416'},\n",
       " {'date': '2014', 'value': '86291'},\n",
       " {'date': '2015', 'value': '86256'},\n",
       " {'date': '2016', 'value': '92378'}]"
      ]
     },
     "execution_count": 3,
     "metadata": {},
     "output_type": "execute_result"
    }
   ],
   "source": [
    "# Initial function that retrieves and process data from ONS\n",
    "# Trade Services\n",
    "\n",
    "def services_data():\n",
    "    parsedData = []\n",
    "    services_data = requests.get('https://www.ons.gov.uk/economy/nationalaccounts/balanceofpayments/timeseries/ikbd/ukea/data')\n",
    "    services_json = json.loads(services_data.content)\n",
    "    tradeData = {}\n",
    "    data_input = 'years'\n",
    "    input_int = 60\n",
    "    for data in services_json[data_input][input_int:]:\n",
    "            tradeData['date'] = data['date']\n",
    "            tradeData['value'] = data['value']\n",
    "            parsedData.append(tradeData.copy())\n",
    "    return parsedData\n",
    "\n",
    "services_data()"
   ]
  }
 ],
 "metadata": {
  "kernelspec": {
   "display_name": "Python 3",
   "language": "python",
   "name": "python3"
  },
  "language_info": {
   "codemirror_mode": {
    "name": "ipython",
    "version": 3
   },
   "file_extension": ".py",
   "mimetype": "text/x-python",
   "name": "python",
   "nbconvert_exporter": "python",
   "pygments_lexer": "ipython3",
   "version": "3.6.2"
  }
 },
 "nbformat": 4,
 "nbformat_minor": 2
}
